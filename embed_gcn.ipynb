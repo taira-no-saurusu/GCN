{
 "cells": [
  {
   "cell_type": "code",
   "execution_count": 1,
   "metadata": {},
   "outputs": [
    {
     "name": "stderr",
     "output_type": "stream",
     "text": [
      "/opt/anaconda3/envs/kmedoids/lib/python3.8/site-packages/tqdm/auto.py:22: TqdmWarning: IProgress not found. Please update jupyter and ipywidgets. See https://ipywidgets.readthedocs.io/en/stable/user_install.html\n",
      "  from .autonotebook import tqdm as notebook_tqdm\n"
     ]
    }
   ],
   "source": [
    "import time\n",
    "import networkx as nx\n",
    "from torch_geometric.utils.convert import to_networkx, from_networkx\n",
    "from torch_geometric.datasets import KarateClub\n",
    "import matplotlib.pyplot as plt\n",
    "import torch\n",
    "from torch.nn import Linear\n",
    "from torch_geometric.nn import GCNConv\n",
    "import gcn\n",
    "from gcn import GCN\n",
    "import numpy as np\n",
    "from sklearn_extra.cluster import KMedoids  # K-Medoids\n",
    "from sklearn.cluster import KMeans\n",
    "from sklearn.metrics.cluster import adjusted_rand_score  # ARI\n",
    "import random\n",
    "import sys\n",
    "from statistics import stdev\n",
    "import warnings\n",
    "\n",
    "warnings.filterwarnings(\"ignore\")\n"
   ]
  },
  {
   "cell_type": "code",
   "execution_count": 2,
   "metadata": {},
   "outputs": [],
   "source": [
    "# 実行回数\n",
    "TIMES = 100\n",
    "\n",
    "# すべてを学習データで学習させるか\n",
    "TRAIN_ALL = False\n",
    "\n",
    "# デフォルトの一部の学習データ(ノード0,4,8,24)で学習させるか。Falseの場合ランダム\n",
    "DEFAULT = False\n",
    "\n",
    "# ランダムのデータで学習する場合の学習データ(ノード情報)数\n",
    "NUM_TRAIN = 4\n",
    "\n",
    "# エポック数\n",
    "EPOCH = 50\n",
    "\n",
    "# 学習状況及び結果を図示するか\n",
    "VIEW_TRAIN = False\n",
    "\n",
    "# 埋め込み結果、クラスタリング結果を表示するか\n",
    "VIEW_CLUSTERING = True\n",
    "\n",
    "#  クラスタ数\n",
    "N_CLUSTER = 2\n",
    "\n",
    "# GCNの学習に使う教師データ\n",
    "TRUE_LABEL = gcn.draw_karateclub()\n",
    "\n",
    "# クラスタリングに用いる手法\n",
    "METHOD = \"kmeans\"\n",
    "\n",
    "DATA = gcn.generate_Graph(\"karateclub\")\n"
   ]
  },
  {
   "cell_type": "code",
   "execution_count": 3,
   "metadata": {},
   "outputs": [
    {
     "data": {
      "text/plain": [
       "array([9.99149740e-01, 7.47781480e-04, 9.15168566e-05, 1.09736775e-05],\n",
       "      dtype=float32)"
      ]
     },
     "execution_count": 3,
     "metadata": {},
     "output_type": "execute_result"
    }
   ],
   "source": [
    "# 埋め込み結果をPCAまで実行\n",
    "eigenvalues = gcn.exec_to_pca(\n",
    "    TRAIN_ALL, DEFAULT, NUM_TRAIN, EPOCH, VIEW_TRAIN, TRUE_LABEL, DATA)\n",
    "\n",
    "eigenvalues\n"
   ]
  }
 ],
 "metadata": {
  "kernelspec": {
   "display_name": "kmedoids",
   "language": "python",
   "name": "python3"
  },
  "language_info": {
   "codemirror_mode": {
    "name": "ipython",
    "version": 3
   },
   "file_extension": ".py",
   "mimetype": "text/x-python",
   "name": "python",
   "nbconvert_exporter": "python",
   "pygments_lexer": "ipython3",
   "version": "3.8.15"
  },
  "orig_nbformat": 4
 },
 "nbformat": 4,
 "nbformat_minor": 2
}
