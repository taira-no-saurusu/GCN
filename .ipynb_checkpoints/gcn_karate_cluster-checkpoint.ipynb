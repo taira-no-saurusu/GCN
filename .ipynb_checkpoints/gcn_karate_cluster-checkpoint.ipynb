{
 "cells": [
  {
   "attachments": {},
   "cell_type": "markdown",
   "metadata": {},
   "source": [
    "# GCNによるKarateclub埋め込み\n",
    "\n",
    "デフォルトはノード0,4,8,24が教師データ\n",
    "\n",
    "! conda activate kmedoids"
   ]
  },
  {
   "cell_type": "code",
   "execution_count": 1,
   "metadata": {},
   "outputs": [
    {
     "name": "stderr",
     "output_type": "stream",
     "text": [
      "/opt/anaconda3/envs/kmedoids/lib/python3.8/site-packages/tqdm/auto.py:22: TqdmWarning: IProgress not found. Please update jupyter and ipywidgets. See https://ipywidgets.readthedocs.io/en/stable/user_install.html\n",
      "  from .autonotebook import tqdm as notebook_tqdm\n"
     ]
    }
   ],
   "source": [
    "\n",
    "import time\n",
    "import networkx as nx\n",
    "from torch_geometric.utils.convert import to_networkx, from_networkx\n",
    "from torch_geometric.datasets import KarateClub\n",
    "import matplotlib.pyplot as plt\n",
    "import torch\n",
    "from torch.nn import Linear\n",
    "from torch_geometric.nn import GCNConv\n",
    "import gcn\n",
    "from gcn import GCN\n",
    "import numpy as np\n",
    "from sklearn_extra.cluster import KMedoids #K-Medoids\n",
    "from sklearn.cluster import KMeans\n",
    "from sklearn.metrics.cluster import adjusted_rand_score #ARI\n",
    "import random\n",
    "import sys\n",
    "from statistics import stdev\n",
    "import warnings\n",
    "\n",
    "warnings.filterwarnings(\"ignore\")\n"
   ]
  },
  {
   "cell_type": "code",
   "execution_count": 2,
   "metadata": {},
   "outputs": [],
   "source": [
    "LOUVAIN = \"LOUVAIN\"\n",
    "KARATE = \"KARATE\"\n",
    "K4 = \"K4\""
   ]
  },
  {
   "cell_type": "code",
   "execution_count": 3,
   "metadata": {},
   "outputs": [],
   "source": [
    "# 実行回数\n",
    "TIMES = 100\n",
    "\n",
    "#すべてを学習データで学習させるか\n",
    "TRAIN_ALL = False \n",
    "\n",
    "# デフォルトの一部の学習データ(ノード0,4,8,24)で学習させるか。Falseの場合ランダム\n",
    "DEFAULT = False\n",
    "\n",
    "#ランダムのデータで学習する場合の学習データ(ノード情報)数\n",
    "NUM_TRAIN = 4\n",
    "\n",
    "#エポック数\n",
    "EPOCH = 50\n",
    "\n",
    "#学習状況及び結果を図示するか\n",
    "VIEW_TRAIN = False\n",
    "\n",
    "#埋め込み結果、クラスタリング結果を表示するか\n",
    "VIEW_CLUSTERING = False\n",
    "\n",
    "#  クラスタ数\n",
    "N_CLUSTER = 2\n",
    "\n",
    "#GCNの学習に使う教師データ\n",
    "TRUE_LABEL = gcn.draw_karateclub()\n",
    "\n",
    "#クラスタリングに用いる手法\n",
    "METHOD = \"kmeans\"\n",
    "\n",
    "DATA = gcn.generate_Graph(\"karateclub\")\n",
    "\n",
    "#==========================================================\n",
    "\n",
    "# 学習に用いるノードの数\n",
    "num_node_list = [1, 2, 3, 4, 5, 10, 15, 20, 25, 30, 34]\n",
    "\n",
    "# エポック数\n",
    "epoch_list = [200]\n",
    "\n"
   ]
  },
  {
   "cell_type": "code",
   "execution_count": 6,
   "metadata": {},
   "outputs": [
    {
     "name": "stdout",
     "output_type": "stream",
     "text": [
      "最大ARI([48, 61, 62, 66]回目実行) : 1.0\n",
      "最小ARI([67]回目実行) : 0.3274021352313167\n",
      "平均ARI : 0.7959102278736222\n",
      "標準偏差 : 0.13292684104958832\n"
     ]
    }
   ],
   "source": [
    "\n",
    "ARI_list, max_EVM, min_EVM, max_pred, min_pred = gcn.exec_to_kmedoids(TIMES, TRAIN_ALL, DEFAULT, NUM_TRAIN, EPOCH,VIEW_TRAIN, VIEW_CLUSTERING, N_CLUSTER, TRUE_LABEL, METHOD, DATA)\n",
    "\n"
   ]
  },
  {
   "attachments": {},
   "cell_type": "markdown",
   "metadata": {},
   "source": [
    "GCN kmedoids"
   ]
  },
  {
   "cell_type": "code",
   "execution_count": 5,
   "metadata": {},
   "outputs": [],
   "source": [
    "name = \"gcn_\"+str(N_CLUSTER)+\".txt\"\n",
    "with open(name,'w') as f:\n",
    "    for i in range(len(max_pred)):\n",
    "        if i+1 == len(max_pred):\n",
    "            f.write(str(max_pred[i]))\n",
    "        else:\n",
    "            f.write(str(max_pred[i])+',')\n"
   ]
  }
 ],
 "metadata": {
  "kernelspec": {
   "display_name": "kmedoids",
   "language": "python",
   "name": "python3"
  },
  "language_info": {
   "codemirror_mode": {
    "name": "ipython",
    "version": 3
   },
   "file_extension": ".py",
   "mimetype": "text/x-python",
   "name": "python",
   "nbconvert_exporter": "python",
   "pygments_lexer": "ipython3",
   "version": "3.8.15"
  },
  "orig_nbformat": 4,
  "vscode": {
   "interpreter": {
    "hash": "74e50cb5a52972e3c3f68c78377d0ecfbecfa890a5a84f41e561882b9e4f0efe"
   }
  }
 },
 "nbformat": 4,
 "nbformat_minor": 2
}
