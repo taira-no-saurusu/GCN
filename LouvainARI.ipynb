{
 "cells": [
  {
   "cell_type": "code",
   "execution_count": 3,
   "metadata": {},
   "outputs": [],
   "source": [
    "from community import community_louvain\n",
    "import torch\n",
    "from sklearn.metrics.cluster import adjusted_rand_score #ARI\n",
    "from torch_geometric.datasets import KarateClub\n",
    "import networkx as nx\n",
    "from statistics import stdev\n",
    "import numpy as np\n"
   ]
  },
  {
   "cell_type": "code",
   "execution_count": 42,
   "metadata": {},
   "outputs": [
    {
     "name": "stdout",
     "output_type": "stream",
     "text": [
      "max: 0.8954674616853776\n",
      "min: 0.5148980531917473\n",
      "std: 0.12199282162956998\n",
      "平均:0.7857107170309106\n",
      "list:[1, 1, 1, 1, 3, 3, 3, 1, 0, 0, 3, 1, 1, 1, 0, 0, 3, 1, 0, 1, 0, 1, 0, 0, 2, 2, 0, 0, 2, 0, 0, 2, 0, 0]\n"
     ]
    },
    {
     "data": {
      "text/plain": [
       "0.8954674616853776"
      ]
     },
     "execution_count": 42,
     "metadata": {},
     "output_type": "execute_result"
    }
   ],
   "source": [
    "karate4 = KarateClub()[0].y.detach().numpy()\n",
    "G = nx.karate_club_graph()\n",
    "\n",
    "max = -100\n",
    "min = 100\n",
    "ari_list=[]\n",
    "l = []\n",
    "\n",
    "\n",
    "for i in range(50):\n",
    "    partition = community_louvain.best_partition(G)\n",
    "    list = []\n",
    "\n",
    "    for i in partition.values():\n",
    "        list.append(i)\n",
    "\n",
    "    ari = adjusted_rand_score(karate4, list)\n",
    "\n",
    "    if ari > max :\n",
    "        max = ari\n",
    "        l = list\n",
    "    if min > ari:\n",
    "        min = ari\n",
    "\n",
    "    ari_list.append(ari)\n",
    "\n",
    "print(f\"max: {max}\")\n",
    "print(f\"min: {min}\")\n",
    "print(f\"std: {stdev(ari_list)}\")\n",
    "print(f\"平均:{np.mean(ari_list)}\")\n",
    "print(f\"list:{l}\")\n",
    "\n",
    "\n",
    "\n"
   ]
  },
  {
   "cell_type": "code",
   "execution_count": 43,
   "metadata": {},
   "outputs": [],
   "source": [
    "with open('louvain_max.txt', 'w') as f:\n",
    "    for i in range(len(l)):\n",
    "        if i+1 == len(l):\n",
    "            f.write(str(l[i]))\n",
    "        else:\n",
    "            f.write(str(l[i])+',')\n"
   ]
  }
 ],
 "metadata": {
  "kernelspec": {
   "display_name": "kmedoids",
   "language": "python",
   "name": "python3"
  },
  "language_info": {
   "codemirror_mode": {
    "name": "ipython",
    "version": 3
   },
   "file_extension": ".py",
   "mimetype": "text/x-python",
   "name": "python",
   "nbconvert_exporter": "python",
   "pygments_lexer": "ipython3",
   "version": "3.8.15 (default, Nov 24 2022, 08:57:44) \n[Clang 14.0.6 ]"
  },
  "orig_nbformat": 4,
  "vscode": {
   "interpreter": {
    "hash": "74e50cb5a52972e3c3f68c78377d0ecfbecfa890a5a84f41e561882b9e4f0efe"
   }
  }
 },
 "nbformat": 4,
 "nbformat_minor": 2
}
