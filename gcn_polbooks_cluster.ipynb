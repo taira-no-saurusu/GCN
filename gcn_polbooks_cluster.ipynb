{
 "cells": [
  {
   "attachments": {},
   "cell_type": "markdown",
   "metadata": {},
   "source": [
    "# GCNによるpolbooks埋め込み\n",
    "\n",
    "\n",
    "! conda activate kmedoids"
   ]
  },
  {
   "cell_type": "code",
   "execution_count": 4,
   "metadata": {},
   "outputs": [],
   "source": [
    "\n",
    "import time\n",
    "import networkx as nx\n",
    "from torch_geometric.utils.convert import to_networkx, from_networkx\n",
    "from torch_geometric.datasets import KarateClub\n",
    "import matplotlib.pyplot as plt\n",
    "import torch\n",
    "from torch.nn import Linear\n",
    "from torch_geometric.nn import GCNConv\n",
    "import gcn_polbooks as gcn\n",
    "from gcn_polbooks import GCN\n",
    "import numpy as np\n",
    "from sklearn_extra.cluster import KMedoids #K-Medoids\n",
    "from sklearn.cluster import KMeans\n",
    "from sklearn.metrics.cluster import adjusted_rand_score #ARI\n",
    "import random\n",
    "import sys\n",
    "from statistics import stdev\n",
    "import warnings\n",
    "\n",
    "warnings.filterwarnings(\"ignore\")\n"
   ]
  },
  {
   "cell_type": "code",
   "execution_count": 5,
   "metadata": {},
   "outputs": [],
   "source": [
    "# 実行回数\n",
    "TIMES = 100\n",
    "\n",
    "#ランダムのデータで学習する場合の学習データ(ノード情報)数\n",
    "NUM_TRAIN = 12\n",
    "\n",
    "#エポック数\n",
    "EPOCH = 50\n",
    "\n",
    "#学習状況及び結果を図示するか\n",
    "VIEW_TRAIN = False\n",
    "\n",
    "#埋め込み結果、クラスタリング結果を表示するか\n",
    "VIEW_CLUSTERING = False\n",
    "\n",
    "#  クラスタ数\n",
    "N_CLUSTER = 3\n",
    "\n",
    "#GCNの学習に使う教師データ KARATE or LOUVAIN\n",
    "TRUE_LABEL = gcn.get_label_list(\"polbooks\")\n",
    "\n",
    "#クラスタリングに用いる手法\n",
    "\"\"\"\n",
    "kmeans : \"kmeans\"\n",
    "kmedoids : \"kmedoids\"\n",
    "\"\"\"\n",
    "METHOD = \"kmeans\"\n",
    "\n",
    "DATA = gcn.generate_Graph(\"polbooks\")\n",
    "\n",
    "#==========================================================\n",
    "\n",
    "# 学習に用いるノードの数\n",
    "num_node_list = [1, 2, 3, 4, 5, 10, 15, 20, 25, 30, 34]\n",
    "\n",
    "# エポック数\n",
    "epoch_list = [200]\n"
   ]
  },
  {
   "cell_type": "code",
   "execution_count": 6,
   "metadata": {},
   "outputs": [
    {
     "name": "stdout",
     "output_type": "stream",
     "text": [
      "最大ARI([91]回目実行) : 0.6118680474651923\n",
      "最小ARI([31]回目実行) : 0.059525630395290116\n",
      "平均ARI : 0.40300652168063367\n",
      "標準偏差 : 0.11438427982270775\n"
     ]
    }
   ],
   "source": [
    "\n",
    "ARI_list, max_EVM, min_EVM, max_pred, min_pred = gcn.exec_to_kmedoids(TIMES, NUM_TRAIN, EPOCH,VIEW_TRAIN, VIEW_CLUSTERING, N_CLUSTER, TRUE_LABEL, METHOD, DATA)\n",
    "\n"
   ]
  }
 ],
 "metadata": {
  "kernelspec": {
   "display_name": "kmedoids",
   "language": "python",
   "name": "python3"
  },
  "language_info": {
   "codemirror_mode": {
    "name": "ipython",
    "version": 3
   },
   "file_extension": ".py",
   "mimetype": "text/x-python",
   "name": "python",
   "nbconvert_exporter": "python",
   "pygments_lexer": "ipython3",
   "version": "3.8.15"
  },
  "orig_nbformat": 4,
  "vscode": {
   "interpreter": {
    "hash": "74e50cb5a52972e3c3f68c78377d0ecfbecfa890a5a84f41e561882b9e4f0efe"
   }
  }
 },
 "nbformat": 4,
 "nbformat_minor": 2
}
